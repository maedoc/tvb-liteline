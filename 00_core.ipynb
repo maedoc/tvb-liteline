{
 "cells": [
  {
   "cell_type": "markdown",
   "metadata": {},
   "source": [
    "# core\n",
    "\n",
    "> Functions for calling FreeSurfer, MRtrix3 & FSL commands needed\n",
    "> for preprocessing structural neuroimaging data are found here."
   ]
  },
  {
   "cell_type": "code",
   "execution_count": null,
   "metadata": {},
   "outputs": [],
   "source": [
    "#| default_exp core"
   ]
  },
  {
   "cell_type": "code",
   "execution_count": null,
   "metadata": {},
   "outputs": [],
   "source": [
    "#| hide\n",
    "from nbdev.showdoc import *"
   ]
  },
  {
   "cell_type": "markdown",
   "metadata": {},
   "source": [
    "## Utilities"
   ]
  },
  {
   "cell_type": "code",
   "execution_count": null,
   "metadata": {},
   "outputs": [],
   "source": [
    "#| export\n",
    "def foo(): pass"
   ]
  },
  {
   "cell_type": "markdown",
   "metadata": {},
   "source": [
    "## FreeSurfer"
   ]
  },
  {
   "cell_type": "code",
   "execution_count": null,
   "metadata": {},
   "outputs": [],
   "source": [
    "#| export\n",
    "def recon_all(image_fname,\n",
    "           subject_name,\n",
    "           parallel=True,\n",
    "           openmp=4,\n",
    "           subjects_dir=None,\n",
    "           license_fname=None):\n",
    "    \"Generate call to the main FreeSurfer script `recon-all` on a given image.\"\n",
    "    import os, subprocess\n",
    "    env = {}\n",
    "    if subjects_dir is not None:\n",
    "        env['SUBJECTS_DIR'] = subjects_dir\n",
    "    argv = [\n",
    "        'recon-all', '-s', subject_name, '-i', image_fname\n",
    "    ]\n",
    "    if parallel:\n",
    "        argv.append('-parallel')\n",
    "    if openmp:\n",
    "        argv.extend(['-openmp', str(openmp)])\n",
    "    return argv, env"
   ]
  },
  {
   "cell_type": "markdown",
   "metadata": {},
   "source": [
    "## FSL"
   ]
  },
  {
   "cell_type": "code",
   "execution_count": null,
   "metadata": {},
   "outputs": [],
   "source": [
    "#| export \n",
    "\n",
    "def flirt(): \"Register images.\"\n",
    "\n",
    "def reorient2std(): \"Standardize image data layout.\""
   ]
  },
  {
   "cell_type": "markdown",
   "metadata": {},
   "source": [
    "## MRtrix"
   ]
  },
  {
   "cell_type": "code",
   "execution_count": null,
   "metadata": {},
   "outputs": [],
   "source": [
    "#| export\n",
    "\n",
    "def fsldwipreproc(): \"Preprocess a DWI image.\""
   ]
  },
  {
   "cell_type": "markdown",
   "metadata": {},
   "source": [
    "## Examples"
   ]
  },
  {
   "cell_type": "markdown",
   "metadata": {},
   "source": [
    "Now, we can easily generate the required command for invoking FreeSurfer.  We separate command generation from the invocation, because there might be different ways we want to run the command."
   ]
  },
  {
   "cell_type": "code",
   "execution_count": null,
   "metadata": {},
   "outputs": [],
   "source": [
    "cmd, _ = recon_all('foo', 'bar')\n",
    "assert ' '.join(cmd) == 'recon-all -s bar -i foo -parallel -openmp 4'"
   ]
  },
  {
   "cell_type": "code",
   "execution_count": null,
   "metadata": {},
   "outputs": [],
   "source": [
    "#| hide\n",
    "import nbdev; nbdev.nbdev_export()"
   ]
  }
 ],
 "metadata": {
  "kernelspec": {
   "display_name": "Python 3 (ipykernel)",
   "language": "python",
   "name": "python3"
  }
 },
 "nbformat": 4,
 "nbformat_minor": 4
}
