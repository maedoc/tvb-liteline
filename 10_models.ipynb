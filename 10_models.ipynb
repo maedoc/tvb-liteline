{
 "cells": [
  {
   "cell_type": "markdown",
   "id": "f8534a34",
   "metadata": {},
   "source": [
    "# models\n",
    "\n",
    "> Components for building models from the structural data."
   ]
  },
  {
   "cell_type": "code",
   "execution_count": null,
   "id": "d949a2a1",
   "metadata": {},
   "outputs": [],
   "source": [
    "#| default_exp models"
   ]
  },
  {
   "cell_type": "code",
   "execution_count": null,
   "id": "0265c5c5",
   "metadata": {},
   "outputs": [],
   "source": [
    "#| export \n",
    "\n",
    "class JansenRit: \"Jansen-Rit model of cortical dynamics.\"\n",
    "\n",
    "class Epileptor: pass\n",
    "\n",
    "class Heun:\n",
    "    r\"\"\"\n",
    "    Stochastic Heun scheme, \n",
    "    $$\n",
    "        x_{t+1} = x_t + \\frac{dt}{2}\\left(f(x_t) + f(x_t + dt f(x_t)) \\right)\n",
    "        + \\sqrt{dt} g(x_t) dW_t\n",
    "    $$\n",
    "    \"\"\""
   ]
  },
  {
   "cell_type": "code",
   "execution_count": null,
   "id": "9b51c715",
   "metadata": {},
   "outputs": [],
   "source": []
  }
 ],
 "metadata": {
  "kernelspec": {
   "display_name": "Python 3 (ipykernel)",
   "language": "python",
   "name": "python3"
  }
 },
 "nbformat": 4,
 "nbformat_minor": 5
}
